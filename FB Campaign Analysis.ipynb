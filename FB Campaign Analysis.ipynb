{
 "cells": [
  {
   "cell_type": "markdown",
   "id": "abb4c14b",
   "metadata": {},
   "source": [
    "## Using Statistics In Marketing Analytics\n",
    "#### By Kevin Eddy\n",
    "For this project I'm using the dataset found in the following link: https://docs.google.com/spreadsheets/d/111Qu0KWR5ILzmmB2TVZTwesUI-zkNW7m/edit#gid=1497916650\n",
    "\n",
    "In today's competitive advertising landscape, it is essential to regularly analyze campaign data to gain insights into the performance of different marketing strategies. This project aims to perform a comprehensive analysis of Meta and AdWords campaign data from 2019 to identify trends, craft and test hypotheses, and provide recommendations for improving future campaigns.\n",
    "\n",
    "The analysis will involve the following steps:\n",
    "\n",
    " - Exploratory Data Analysis (EDA): Perform EDA to gain insights into the overall performance of the campaigns, such as impressions, clicks, conversions, and cost per conversion. Identify any significant trends or patterns in the data.\n",
    " - Hypothesis Testing: Formulate hypotheses based on the observations from EDA and test them using statistical methods. This will help to determine the impact of different campaign variables on performance.\n",
    " - Insight Generation: Interpret the results of the hypothesis tests and other analyses to generate actionable insights for improving future campaigns.\n",
    " - Recommendations: Develop recommendations for improving the next round of campaigns based on the insights gained from the analysis. This may include suggestions for optimizing ad copy, targeting, bidding strategies, and landing pages.\n",
    " \n",
    "The project will provide valuable insights into the effectiveness of the Meta and AdWords campaigns conducted in 2019. The findings will help to improve the efficiency of future campaigns, leading to increased conversions and a higher return on investment (ROI). The recommendations provided in the project will be actionable and tailored to the specific needs of the business.\n",
    "\n",
    "To make this analysis a bit easier follow, I have broken it into 4 parts:\n",
    " - Getting to Know the Data\n",
    " - Understanding Your Data Samples\n",
    " - Testing Your Hypothesis\n",
    " - Choosing and Executing a Model\n",
    " - Findings and Recommendation "
   ]
  },
  {
   "cell_type": "code",
   "execution_count": 81,
   "id": "c58dfad6",
   "metadata": {},
   "outputs": [],
   "source": [
    "## Import Libraries \n",
    "import numpy as np                            ## adds powerful data structures to python to perform mathematical operations on arrays.\n",
    "import pandas as pd                           ## library perform general eda.\n",
    "import seaborn as sns                         ## data visualization library based on matplotlib to provide statistical graphs. \n",
    "from matplotlib import pyplot as plt          ## creates quality static, animated, and visualizations in python.\n",
    "import plotly.express as px\n",
    "import scipy\n",
    "from scipy import stats\n",
    "from scipy.stats import iqr\n",
    "from scipy.stats import norm\n",
    "from scipy.stats import kstest"
   ]
  },
  {
   "cell_type": "code",
   "execution_count": 31,
   "id": "9915ce3e",
   "metadata": {},
   "outputs": [],
   "source": [
    "# load fiscal_calendar table\n",
    "df = pd.read_csv(\"/Users/kevineddy/Desktop/Data Projects/Marketing Analysis/Capstone 1.xlsx - Capstone Dataset.csv\")\n"
   ]
  },
  {
   "cell_type": "markdown",
   "id": "7c59d13d",
   "metadata": {},
   "source": [
    "Before we begin, print a sample of the dataframe to make sure we imported it correctly"
   ]
  },
  {
   "cell_type": "code",
   "execution_count": 32,
   "id": "5a5e56bd",
   "metadata": {},
   "outputs": [
    {
     "data": {
      "text/html": [
       "<div>\n",
       "<style scoped>\n",
       "    .dataframe tbody tr th:only-of-type {\n",
       "        vertical-align: middle;\n",
       "    }\n",
       "\n",
       "    .dataframe tbody tr th {\n",
       "        vertical-align: top;\n",
       "    }\n",
       "\n",
       "    .dataframe thead th {\n",
       "        text-align: right;\n",
       "    }\n",
       "</style>\n",
       "<table border=\"1\" class=\"dataframe\">\n",
       "  <thead>\n",
       "    <tr style=\"text-align: right;\">\n",
       "      <th></th>\n",
       "      <th>Date</th>\n",
       "      <th>Facebook Ad Campaign</th>\n",
       "      <th>Facebook Ad Views</th>\n",
       "      <th>Facebook Ad Clicks</th>\n",
       "      <th>Facebook Ad Conversions</th>\n",
       "      <th>Cost per Facebook Ad</th>\n",
       "      <th>Facebook Click-Through Rate (Clicks / View)</th>\n",
       "      <th>Facebook Conversion Rate (Conversions / Clicks)</th>\n",
       "      <th>Facebook Cost per Click (Ad Cost / Clicks)</th>\n",
       "      <th>AdWords Ad Campaign</th>\n",
       "      <th>AdWords Ad Views</th>\n",
       "      <th>AdWords Ad Clicks</th>\n",
       "      <th>AdWords Ad Conversions</th>\n",
       "      <th>Cost per AdWords Ad</th>\n",
       "      <th>AdWords Click-Through Rate (Clicks / View)</th>\n",
       "      <th>AdWords Conversion Rate (Conversions / Click)</th>\n",
       "      <th>AdWords Cost per Click (Ad Cost / Clicks)</th>\n",
       "    </tr>\n",
       "  </thead>\n",
       "  <tbody>\n",
       "    <tr>\n",
       "      <th>187</th>\n",
       "      <td>7/7/2019</td>\n",
       "      <td>FB_Jul19</td>\n",
       "      <td>1280</td>\n",
       "      <td>46</td>\n",
       "      <td>12</td>\n",
       "      <td>$134</td>\n",
       "      <td>3.60%</td>\n",
       "      <td>26.51%</td>\n",
       "      <td>$2.90</td>\n",
       "      <td>AW_Jul19</td>\n",
       "      <td>4571</td>\n",
       "      <td>54</td>\n",
       "      <td>8</td>\n",
       "      <td>$111</td>\n",
       "      <td>1.19%</td>\n",
       "      <td>14.20%</td>\n",
       "      <td>$2.05</td>\n",
       "    </tr>\n",
       "    <tr>\n",
       "      <th>170</th>\n",
       "      <td>6/20/2019</td>\n",
       "      <td>FB_Jun19</td>\n",
       "      <td>1944</td>\n",
       "      <td>58</td>\n",
       "      <td>17</td>\n",
       "      <td>$104</td>\n",
       "      <td>2.97%</td>\n",
       "      <td>28.65%</td>\n",
       "      <td>$1.80</td>\n",
       "      <td>AW_Jun19</td>\n",
       "      <td>5277</td>\n",
       "      <td>76</td>\n",
       "      <td>6</td>\n",
       "      <td>$91</td>\n",
       "      <td>1.44%</td>\n",
       "      <td>7.63%</td>\n",
       "      <td>$1.20</td>\n",
       "    </tr>\n",
       "    <tr>\n",
       "      <th>267</th>\n",
       "      <td>9/25/2019</td>\n",
       "      <td>FB_Sep19</td>\n",
       "      <td>3081</td>\n",
       "      <td>47</td>\n",
       "      <td>12</td>\n",
       "      <td>$130</td>\n",
       "      <td>1.51%</td>\n",
       "      <td>26.45%</td>\n",
       "      <td>$2.79</td>\n",
       "      <td>AW_Sep19</td>\n",
       "      <td>4354</td>\n",
       "      <td>58</td>\n",
       "      <td>5</td>\n",
       "      <td>$168</td>\n",
       "      <td>1.34%</td>\n",
       "      <td>8.43%</td>\n",
       "      <td>$2.88</td>\n",
       "    </tr>\n",
       "    <tr>\n",
       "      <th>66</th>\n",
       "      <td>3/8/2019</td>\n",
       "      <td>FB_Mar19</td>\n",
       "      <td>1232</td>\n",
       "      <td>24</td>\n",
       "      <td>10</td>\n",
       "      <td>$142</td>\n",
       "      <td>1.97%</td>\n",
       "      <td>40.58%</td>\n",
       "      <td>$5.84</td>\n",
       "      <td>AW_Mar19</td>\n",
       "      <td>4507</td>\n",
       "      <td>70</td>\n",
       "      <td>9</td>\n",
       "      <td>$99</td>\n",
       "      <td>1.56%</td>\n",
       "      <td>12.12%</td>\n",
       "      <td>$1.40</td>\n",
       "    </tr>\n",
       "    <tr>\n",
       "      <th>330</th>\n",
       "      <td>11/27/2019</td>\n",
       "      <td>FB_Nov19</td>\n",
       "      <td>1960</td>\n",
       "      <td>68</td>\n",
       "      <td>15</td>\n",
       "      <td>$109</td>\n",
       "      <td>3.45%</td>\n",
       "      <td>21.48%</td>\n",
       "      <td>$1.61</td>\n",
       "      <td>AW_Nov19</td>\n",
       "      <td>4721</td>\n",
       "      <td>58</td>\n",
       "      <td>8</td>\n",
       "      <td>$162</td>\n",
       "      <td>1.23%</td>\n",
       "      <td>13.60%</td>\n",
       "      <td>$2.79</td>\n",
       "    </tr>\n",
       "    <tr>\n",
       "      <th>229</th>\n",
       "      <td>8/18/2019</td>\n",
       "      <td>FB_Aug19</td>\n",
       "      <td>1422</td>\n",
       "      <td>51</td>\n",
       "      <td>13</td>\n",
       "      <td>$78</td>\n",
       "      <td>3.56%</td>\n",
       "      <td>25.93%</td>\n",
       "      <td>$1.55</td>\n",
       "      <td>AW_Aug19</td>\n",
       "      <td>4561</td>\n",
       "      <td>70</td>\n",
       "      <td>6</td>\n",
       "      <td>$122</td>\n",
       "      <td>1.53%</td>\n",
       "      <td>9.31%</td>\n",
       "      <td>$1.76</td>\n",
       "    </tr>\n",
       "    <tr>\n",
       "      <th>165</th>\n",
       "      <td>6/15/2019</td>\n",
       "      <td>FB_Jun19</td>\n",
       "      <td>2673</td>\n",
       "      <td>33</td>\n",
       "      <td>9</td>\n",
       "      <td>$56</td>\n",
       "      <td>1.23%</td>\n",
       "      <td>26.10%</td>\n",
       "      <td>$1.70</td>\n",
       "      <td>AW_Jun19</td>\n",
       "      <td>4456</td>\n",
       "      <td>40</td>\n",
       "      <td>4</td>\n",
       "      <td>$188</td>\n",
       "      <td>0.90%</td>\n",
       "      <td>10.00%</td>\n",
       "      <td>$4.70</td>\n",
       "    </tr>\n",
       "    <tr>\n",
       "      <th>349</th>\n",
       "      <td>12/16/2019</td>\n",
       "      <td>FB_Dec19</td>\n",
       "      <td>2930</td>\n",
       "      <td>72</td>\n",
       "      <td>16</td>\n",
       "      <td>$124</td>\n",
       "      <td>2.46%</td>\n",
       "      <td>22.77%</td>\n",
       "      <td>$1.72</td>\n",
       "      <td>AW_Dec19</td>\n",
       "      <td>4089</td>\n",
       "      <td>89</td>\n",
       "      <td>5</td>\n",
       "      <td>$118</td>\n",
       "      <td>2.17%</td>\n",
       "      <td>6.13%</td>\n",
       "      <td>$1.33</td>\n",
       "    </tr>\n",
       "    <tr>\n",
       "      <th>303</th>\n",
       "      <td>10/31/2019</td>\n",
       "      <td>FB_Oct19</td>\n",
       "      <td>2902</td>\n",
       "      <td>64</td>\n",
       "      <td>18</td>\n",
       "      <td>$85</td>\n",
       "      <td>2.21%</td>\n",
       "      <td>27.80%</td>\n",
       "      <td>$1.32</td>\n",
       "      <td>AW_Oct19</td>\n",
       "      <td>4039</td>\n",
       "      <td>38</td>\n",
       "      <td>5</td>\n",
       "      <td>$189</td>\n",
       "      <td>0.94%</td>\n",
       "      <td>12.93%</td>\n",
       "      <td>$4.99</td>\n",
       "    </tr>\n",
       "    <tr>\n",
       "      <th>179</th>\n",
       "      <td>6/29/2019</td>\n",
       "      <td>FB_Jun19</td>\n",
       "      <td>1951</td>\n",
       "      <td>46</td>\n",
       "      <td>11</td>\n",
       "      <td>$129</td>\n",
       "      <td>2.33%</td>\n",
       "      <td>24.40%</td>\n",
       "      <td>$2.83</td>\n",
       "      <td>AW_Jun19</td>\n",
       "      <td>4683</td>\n",
       "      <td>48</td>\n",
       "      <td>7</td>\n",
       "      <td>$149</td>\n",
       "      <td>1.02%</td>\n",
       "      <td>15.50%</td>\n",
       "      <td>$3.13</td>\n",
       "    </tr>\n",
       "  </tbody>\n",
       "</table>\n",
       "</div>"
      ],
      "text/plain": [
       "           Date Facebook Ad Campaign  Facebook Ad Views  Facebook Ad Clicks  \\\n",
       "187    7/7/2019             FB_Jul19               1280                  46   \n",
       "170   6/20/2019             FB_Jun19               1944                  58   \n",
       "267   9/25/2019             FB_Sep19               3081                  47   \n",
       "66     3/8/2019             FB_Mar19               1232                  24   \n",
       "330  11/27/2019             FB_Nov19               1960                  68   \n",
       "229   8/18/2019             FB_Aug19               1422                  51   \n",
       "165   6/15/2019             FB_Jun19               2673                  33   \n",
       "349  12/16/2019             FB_Dec19               2930                  72   \n",
       "303  10/31/2019             FB_Oct19               2902                  64   \n",
       "179   6/29/2019             FB_Jun19               1951                  46   \n",
       "\n",
       "     Facebook Ad Conversions Cost per Facebook Ad  \\\n",
       "187                       12                 $134   \n",
       "170                       17                 $104   \n",
       "267                       12                 $130   \n",
       "66                        10                 $142   \n",
       "330                       15                 $109   \n",
       "229                       13                  $78   \n",
       "165                        9                  $56   \n",
       "349                       16                 $124   \n",
       "303                       18                  $85   \n",
       "179                       11                 $129   \n",
       "\n",
       "    Facebook Click-Through Rate (Clicks / View)  \\\n",
       "187                                       3.60%   \n",
       "170                                       2.97%   \n",
       "267                                       1.51%   \n",
       "66                                        1.97%   \n",
       "330                                       3.45%   \n",
       "229                                       3.56%   \n",
       "165                                       1.23%   \n",
       "349                                       2.46%   \n",
       "303                                       2.21%   \n",
       "179                                       2.33%   \n",
       "\n",
       "    Facebook Conversion Rate (Conversions / Clicks)  \\\n",
       "187                                          26.51%   \n",
       "170                                          28.65%   \n",
       "267                                          26.45%   \n",
       "66                                           40.58%   \n",
       "330                                          21.48%   \n",
       "229                                          25.93%   \n",
       "165                                          26.10%   \n",
       "349                                          22.77%   \n",
       "303                                          27.80%   \n",
       "179                                          24.40%   \n",
       "\n",
       "    Facebook Cost per Click (Ad Cost / Clicks) AdWords Ad Campaign  \\\n",
       "187                                      $2.90            AW_Jul19   \n",
       "170                                      $1.80            AW_Jun19   \n",
       "267                                      $2.79            AW_Sep19   \n",
       "66                                       $5.84            AW_Mar19   \n",
       "330                                      $1.61            AW_Nov19   \n",
       "229                                      $1.55            AW_Aug19   \n",
       "165                                      $1.70            AW_Jun19   \n",
       "349                                      $1.72            AW_Dec19   \n",
       "303                                      $1.32            AW_Oct19   \n",
       "179                                      $2.83            AW_Jun19   \n",
       "\n",
       "     AdWords Ad Views  AdWords Ad Clicks  AdWords Ad Conversions  \\\n",
       "187              4571                 54                       8   \n",
       "170              5277                 76                       6   \n",
       "267              4354                 58                       5   \n",
       "66               4507                 70                       9   \n",
       "330              4721                 58                       8   \n",
       "229              4561                 70                       6   \n",
       "165              4456                 40                       4   \n",
       "349              4089                 89                       5   \n",
       "303              4039                 38                       5   \n",
       "179              4683                 48                       7   \n",
       "\n",
       "    Cost per AdWords Ad AdWords Click-Through Rate (Clicks / View)  \\\n",
       "187                $111                                      1.19%   \n",
       "170                 $91                                      1.44%   \n",
       "267                $168                                      1.34%   \n",
       "66                  $99                                      1.56%   \n",
       "330                $162                                      1.23%   \n",
       "229                $122                                      1.53%   \n",
       "165                $188                                      0.90%   \n",
       "349                $118                                      2.17%   \n",
       "303                $189                                      0.94%   \n",
       "179                $149                                      1.02%   \n",
       "\n",
       "    AdWords Conversion Rate (Conversions / Click)  \\\n",
       "187                                        14.20%   \n",
       "170                                         7.63%   \n",
       "267                                         8.43%   \n",
       "66                                         12.12%   \n",
       "330                                        13.60%   \n",
       "229                                         9.31%   \n",
       "165                                        10.00%   \n",
       "349                                         6.13%   \n",
       "303                                        12.93%   \n",
       "179                                        15.50%   \n",
       "\n",
       "    AdWords Cost per Click (Ad Cost / Clicks)  \n",
       "187                                     $2.05  \n",
       "170                                     $1.20  \n",
       "267                                     $2.88  \n",
       "66                                      $1.40  \n",
       "330                                     $2.79  \n",
       "229                                     $1.76  \n",
       "165                                     $4.70  \n",
       "349                                     $1.33  \n",
       "303                                     $4.99  \n",
       "179                                     $3.13  "
      ]
     },
     "execution_count": 32,
     "metadata": {},
     "output_type": "execute_result"
    }
   ],
   "source": [
    "df.sample(10)"
   ]
  },
  {
   "cell_type": "markdown",
   "id": "a3b2d148",
   "metadata": {},
   "source": [
    "## Getting to Know the Data\n",
    "Let's get started with becoming familiar with the data.\n",
    "\n",
    "### Measures of Central Tendency\n",
    "The Meausers of Central Tendency include the mean, median, and mode. These measures help us identify the middle of the data which gives us a quick understanding of the audience and how well the campaigns performed.\n",
    "\n",
    "#### Facebook"
   ]
  },
  {
   "cell_type": "code",
   "execution_count": 33,
   "id": "57710155",
   "metadata": {
    "scrolled": true
   },
   "outputs": [
    {
     "data": {
      "text/html": [
       "<div>\n",
       "<style scoped>\n",
       "    .dataframe tbody tr th:only-of-type {\n",
       "        vertical-align: middle;\n",
       "    }\n",
       "\n",
       "    .dataframe tbody tr th {\n",
       "        vertical-align: top;\n",
       "    }\n",
       "\n",
       "    .dataframe thead th {\n",
       "        text-align: right;\n",
       "    }\n",
       "</style>\n",
       "<table border=\"1\" class=\"dataframe\">\n",
       "  <thead>\n",
       "    <tr style=\"text-align: right;\">\n",
       "      <th></th>\n",
       "      <th>Facebook Ad Views</th>\n",
       "      <th>Facebook Ad Clicks</th>\n",
       "      <th>Facebook Ad Conversions</th>\n",
       "      <th>AdWords Ad Views</th>\n",
       "      <th>AdWords Ad Clicks</th>\n",
       "      <th>AdWords Ad Conversions</th>\n",
       "    </tr>\n",
       "  </thead>\n",
       "  <tbody>\n",
       "    <tr>\n",
       "      <th>count</th>\n",
       "      <td>365.000000</td>\n",
       "      <td>365.000000</td>\n",
       "      <td>365.000000</td>\n",
       "      <td>365.00000</td>\n",
       "      <td>365.000000</td>\n",
       "      <td>365.000000</td>\n",
       "    </tr>\n",
       "    <tr>\n",
       "      <th>mean</th>\n",
       "      <td>2179.687671</td>\n",
       "      <td>44.049315</td>\n",
       "      <td>11.742466</td>\n",
       "      <td>4717.19726</td>\n",
       "      <td>60.383562</td>\n",
       "      <td>5.980822</td>\n",
       "    </tr>\n",
       "    <tr>\n",
       "      <th>std</th>\n",
       "      <td>618.074639</td>\n",
       "      <td>12.140559</td>\n",
       "      <td>2.924786</td>\n",
       "      <td>561.11406</td>\n",
       "      <td>14.368225</td>\n",
       "      <td>1.628106</td>\n",
       "    </tr>\n",
       "    <tr>\n",
       "      <th>min</th>\n",
       "      <td>1050.000000</td>\n",
       "      <td>15.000000</td>\n",
       "      <td>5.000000</td>\n",
       "      <td>3714.00000</td>\n",
       "      <td>31.000000</td>\n",
       "      <td>3.000000</td>\n",
       "    </tr>\n",
       "    <tr>\n",
       "      <th>25%</th>\n",
       "      <td>1656.000000</td>\n",
       "      <td>35.000000</td>\n",
       "      <td>10.000000</td>\n",
       "      <td>4247.00000</td>\n",
       "      <td>49.000000</td>\n",
       "      <td>5.000000</td>\n",
       "    </tr>\n",
       "    <tr>\n",
       "      <th>50%</th>\n",
       "      <td>2202.000000</td>\n",
       "      <td>43.000000</td>\n",
       "      <td>12.000000</td>\n",
       "      <td>4711.00000</td>\n",
       "      <td>60.000000</td>\n",
       "      <td>6.000000</td>\n",
       "    </tr>\n",
       "    <tr>\n",
       "      <th>75%</th>\n",
       "      <td>2717.000000</td>\n",
       "      <td>54.000000</td>\n",
       "      <td>13.000000</td>\n",
       "      <td>5190.00000</td>\n",
       "      <td>73.000000</td>\n",
       "      <td>7.000000</td>\n",
       "    </tr>\n",
       "    <tr>\n",
       "      <th>max</th>\n",
       "      <td>3320.000000</td>\n",
       "      <td>73.000000</td>\n",
       "      <td>19.000000</td>\n",
       "      <td>5760.00000</td>\n",
       "      <td>89.000000</td>\n",
       "      <td>9.000000</td>\n",
       "    </tr>\n",
       "  </tbody>\n",
       "</table>\n",
       "</div>"
      ],
      "text/plain": [
       "       Facebook Ad Views  Facebook Ad Clicks  Facebook Ad Conversions  \\\n",
       "count         365.000000          365.000000               365.000000   \n",
       "mean         2179.687671           44.049315                11.742466   \n",
       "std           618.074639           12.140559                 2.924786   \n",
       "min          1050.000000           15.000000                 5.000000   \n",
       "25%          1656.000000           35.000000                10.000000   \n",
       "50%          2202.000000           43.000000                12.000000   \n",
       "75%          2717.000000           54.000000                13.000000   \n",
       "max          3320.000000           73.000000                19.000000   \n",
       "\n",
       "       AdWords Ad Views  AdWords Ad Clicks  AdWords Ad Conversions  \n",
       "count         365.00000         365.000000              365.000000  \n",
       "mean         4717.19726          60.383562                5.980822  \n",
       "std           561.11406          14.368225                1.628106  \n",
       "min          3714.00000          31.000000                3.000000  \n",
       "25%          4247.00000          49.000000                5.000000  \n",
       "50%          4711.00000          60.000000                6.000000  \n",
       "75%          5190.00000          73.000000                7.000000  \n",
       "max          5760.00000          89.000000                9.000000  "
      ]
     },
     "execution_count": 33,
     "metadata": {},
     "output_type": "execute_result"
    }
   ],
   "source": [
    "# return summary statistics for the data\n",
    "df.describe()"
   ]
  },
  {
   "cell_type": "code",
   "execution_count": 34,
   "id": "9d3995fb",
   "metadata": {
    "scrolled": false
   },
   "outputs": [
    {
     "data": {
      "image/png": "[encoded data removed]",
      "text/plain": [
       "<Figure size 432x288 with 1 Axes>"
      ]
     },
     "metadata": {
      "needs_background": "light"
     },
     "output_type": "display_data"
    }
   ],
   "source": [
    "# FB Clicks\n",
    "plt.boxplot(df['Facebook Ad Clicks'], boxprops=dict(color='blue'))\n",
    "plt.title('Number of Facebook Ad Clicks');"
   ]
  },
  {
   "cell_type": "code",
   "execution_count": 35,
   "id": "49689832",
   "metadata": {},
   "outputs": [
    {
     "data": {
      "image/png": "[encoded data removed]",
      "text/plain": [
       "<Figure size 432x288 with 1 Axes>"
      ]
     },
     "metadata": {
      "needs_background": "light"
     },
     "output_type": "display_data"
    }
   ],
   "source": [
    "# FB Conversions\n",
    "plt.boxplot(df['Facebook Ad Conversions'], boxprops=dict(color='blue'))\n",
    "plt.title('Number of Facebook Ad Conversions');"
   ]
  },
  {
   "cell_type": "markdown",
   "id": "7fa29c9c",
   "metadata": {},
   "source": [
    "The box plot for Clicks looks good with a normal distribution. However, the box plot for Conversions shows there are some outliers in the data. Median may be a better representation of the average number conversions."
   ]
  },
  {
   "cell_type": "code",
   "execution_count": 36,
   "id": "ede7101b",
   "metadata": {},
   "outputs": [
    {
     "data": {
      "text/plain": [
       "{'Conversions Median': 12.0,\n",
       " 'Conversion Mode': 13,\n",
       " 'Clicks Median': 43.0,\n",
       " 'Clicks Mode': 36}"
      ]
     },
     "execution_count": 36,
     "metadata": {},
     "output_type": "execute_result"
    }
   ],
   "source": [
    "# the describe function doesn't include median and mode so we'll add them here\n",
    "# create a dictionary to store the median and mode\n",
    "centralTendency = {}\n",
    "centralTendency['Conversions Median'] = df['Facebook Ad Conversions']. median()\n",
    "centralTendency['Conversion Mode'] = df['Facebook Ad Conversions'].mode()[0]\n",
    "centralTendency['Clicks Median'] = df['Facebook Ad Clicks']. median()\n",
    "centralTendency['Clicks Mode'] = df['Facebook Ad Clicks'].mode()[0]\n",
    "\n",
    "centralTendency"
   ]
  },
  {
   "cell_type": "markdown",
   "id": "5cd42a48",
   "metadata": {},
   "source": [
    "#### Clicks\n",
    " - Mean: 44.04\n",
    " - Median: 43.00\n",
    " - Mode: 36.00\n",
    " - Std.Dev: 12.14\n",
    " - Range: 58.00\n",
    " \n",
    "The Std. Deviation is a little high, showing that the data is spread out over a larger range of values and two-thirds of the campaigns received between 32 and 56 clicks.\n",
    "\n",
    "#### Conversions\n",
    " - Mean: 11.74\n",
    " - Median: 12\n",
    " - Mode: 13\n",
    " - Std.Dev: 2.92\n",
    " - Range: 14.00\n",
    " \n",
    "The Std. Deviation for conversions is more reasonable, showing that two-thirds of the campaigns received between 9 and 15 conversion.\n",
    " \n",
    "#### Adwords"
   ]
  },
  {
   "cell_type": "code",
   "execution_count": 76,
   "id": "3e80e4ec",
   "metadata": {},
   "outputs": [
    {
     "data": {
      "text/plain": [
       "Text(0.5, 1.0, 'Number of Adwords Ad Clicks')"
      ]
     },
     "execution_count": 76,
     "metadata": {},
     "output_type": "execute_result"
    },
    {
     "data": {
      "image/png": "[encoded data removed]",
      "text/plain": [
       "<Figure size 432x288 with 1 Axes>"
      ]
     },
     "metadata": {
      "needs_background": "light"
     },
     "output_type": "display_data"
    }
   ],
   "source": [
    "# Adwords Clicks\n",
    "plt.boxplot(df['AdWords Ad Clicks'], boxprops=dict(color='blue'))\n",
    "plt.title('Number of Adwords Ad Clicks')"
   ]
  },
  {
   "cell_type": "code",
   "execution_count": 75,
   "id": "c16f1f16",
   "metadata": {},
   "outputs": [
    {
     "data": {
      "text/plain": [
       "Text(0.5, 1.0, 'Number of Adwords Ad Conversions')"
      ]
     },
     "execution_count": 75,
     "metadata": {},
     "output_type": "execute_result"
    },
    {
     "data": {
      "image/png": "[encoded data removed]",
      "text/plain": [
       "<Figure size 432x288 with 1 Axes>"
      ]
     },
     "metadata": {
      "needs_background": "light"
     },
     "output_type": "display_data"
    }
   ],
   "source": [
    "# Adwords Conversions\n",
    "plt.boxplot(df['AdWords Ad Conversions'], boxprops=dict(color='blue'))\n",
    "plt.title('Number of Adwords Ad Conversions')"
   ]
  },
  {
   "cell_type": "markdown",
   "id": "4c89c449",
   "metadata": {},
   "source": [
    "Both box plots look good and don't show any outliers. "
   ]
  },
  {
   "cell_type": "code",
   "execution_count": 40,
   "id": "ef7be9a2",
   "metadata": {},
   "outputs": [
    {
     "data": {
      "text/plain": [
       "{'Conversions Median': 6.0,\n",
       " 'Conversion Mode': 5,\n",
       " 'Clicks Median': 60.0,\n",
       " 'Clicks Mode': 78}"
      ]
     },
     "execution_count": 40,
     "metadata": {},
     "output_type": "execute_result"
    }
   ],
   "source": [
    "# the describe function doesn't include median and mode so we'll add them here\n",
    "# create a dictionary to store the median and mode\n",
    "centralTendency = {}\n",
    "centralTendency['Conversions Median'] = df['AdWords Ad Conversions']. median()\n",
    "centralTendency['Conversion Mode'] = df['AdWords Ad Conversions'].mode()[0]\n",
    "centralTendency['Clicks Median'] = df['AdWords Ad Clicks']. median()\n",
    "centralTendency['Clicks Mode'] = df['AdWords Ad Clicks'].mode()[0]\n",
    "\n",
    "centralTendency"
   ]
  },
  {
   "cell_type": "markdown",
   "id": "8d76e87b",
   "metadata": {},
   "source": [
    "#### Clicks\n",
    " - Mean: 60.4\n",
    " - Median: 60.0\n",
    " - Mode: 78\n",
    " - Std.Dev: 14.4\n",
    " - Range: 58\n",
    "\n",
    "Similar to the Facebook clicks, the std. dev for Adwords clicks is a pretty high too. Two-thirds of the campaigns received between 46 and 74 clicks. \n",
    "\n",
    "#### Conversions\n",
    " - Mean: 6.0\n",
    " - Median: 6.0\n",
    " - Mode: 5\n",
    " - Std.Dev: 1.6\n",
    " - Range: 6\n",
    " \n",
    "While two-thirds of campaigns in Adwords recieved roughly between 4 and 8 conversions, which is more reasonable.\n",
    " "
   ]
  },
  {
   "cell_type": "markdown",
   "id": "a7c547f2",
   "metadata": {},
   "source": [
    "## Frequency Table"
   ]
  },
  {
   "cell_type": "code",
   "execution_count": 66,
   "id": "f6c11f5f",
   "metadata": {},
   "outputs": [
    {
     "data": {
      "text/plain": [
       "1-5        8\n",
       "6-10     167\n",
       "11-15    165\n",
       "16+       25\n",
       "Name: Facebook Ad Conversions, dtype: int64"
      ]
     },
     "execution_count": 66,
     "metadata": {},
     "output_type": "execute_result"
    }
   ],
   "source": [
    "# Create a Frequency Table For FB Conversions\n",
    "# Group number of Occurances together\n",
    "# Define ranges \n",
    "ranges = [1,6,11,16, float('inf')] \n",
    "labels = ['1-5', '6-10', '11-15', '16+']\n",
    "#Create a pandas series \n",
    "series = pd.Series(df['Facebook Ad Conversions'])\n",
    "# Group values based on ranges and compute frequency table\n",
    "frequency_table = pd.cut(series, bins=ranges, labels=labels, include_lowest=True).value_counts().sort_index()\n",
    "frequency_table\n",
    "\n"
   ]
  },
  {
   "cell_type": "code",
   "execution_count": 104,
   "id": "5889e5d9",
   "metadata": {},
   "outputs": [
    {
     "data": {
      "text/plain": [
       "array([[4.16232571, 0.8761755 ],\n",
       "       [0.8761755 , 0.24157217]])"
      ]
     },
     "execution_count": 104,
     "metadata": {},
     "output_type": "execute_result"
    }
   ],
   "source": [
    "#calculate correlation coefficient between FB conversions and FB clicks\n",
    "#r = scipy.stats.pearsonr(x='Facebook Ad Clicks', y= 'Facebook Ad Conversions')[0]\n",
    "#pearsonr returning error \"ValueError: x and y must have the same length\" - df is same length, need to look into this\n",
    "\n",
    "from numpy import cov\n",
    "covariance = cov(df['Facebook Ad Clicks'], df['Facebook Ad Conversions'])\n",
    "r = covariance/(np.std(df['Facebook Ad Clicks'])* np.std(df['Facebook Ad Conversions']))\n",
    "r"
   ]
  },
  {
   "cell_type": "markdown",
   "id": "73848ac7",
   "metadata": {},
   "source": [
    "The correlation coefficient is 0.88 which indicates that Facebook Cliks and Conversions have a strong positive correlation.\n",
    "\n",
    "The scatter plot (below) and the positive correlation coefficient suggest that there is a positive correlation between clicks and conversions for Facebook Ads. This means that as the number of clicks on an ad increases, the number of conversions is also likely to increase."
   ]
  },
  {
   "cell_type": "code",
   "execution_count": 90,
   "id": "2f085d29",
   "metadata": {},
   "outputs": [
    {
     "data": {
      "image/png": "[encoded data removed]",
      "text/plain": [
       "<Figure size 360x360 with 1 Axes>"
      ]
     },
     "metadata": {
      "needs_background": "light"
     },
     "output_type": "display_data"
    }
   ],
   "source": [
    "# Create a scatter plot showing the correlation between FB clicks and FB conversions\n",
    "graph = sns.lmplot(x='Facebook Ad Clicks', y= 'Facebook Ad Conversions', data= df)"
   ]
  },
  {
   "cell_type": "code",
   "execution_count": 56,
   "id": "c59769ed",
   "metadata": {},
   "outputs": [
    {
     "data": {
      "text/plain": [
       "1-2     22\n",
       "3-4    134\n",
       "5-6    137\n",
       "7+      72\n",
       "Name: AdWords Ad Conversions, dtype: int64"
      ]
     },
     "execution_count": 56,
     "metadata": {},
     "output_type": "execute_result"
    }
   ],
   "source": [
    "# Create a Frequency Table For Adwords Conversions\n",
    "# Group number of Occurances together\n",
    "# Define ranges \n",
    "ranges = [1,3,5,7, float('inf')] \n",
    "labels = ['1-2', '3-4', '5-6', '7+']\n",
    "#Create a pandas series \n",
    "series = pd.Series(df['AdWords Ad Conversions'])\n",
    "# Group values based on ranges and compute frequency table\n",
    "frequency_table = pd.cut(series, bins=ranges, labels=labels, include_lowest=True).value_counts().sort_index()\n",
    "frequency_table"
   ]
  },
  {
   "cell_type": "code",
   "execution_count": 106,
   "id": "75fb63c8",
   "metadata": {},
   "outputs": [
    {
     "data": {
      "text/plain": [
       "array([[8.84935953, 0.44922395],\n",
       "       [0.44922395, 0.11362427]])"
      ]
     },
     "execution_count": 106,
     "metadata": {},
     "output_type": "execute_result"
    }
   ],
   "source": [
    "#calculate correlation coefficient between Adwords conversions and Adwords clicks\n",
    "covariance = cov(df['AdWords Ad Clicks'], df['AdWords Ad Conversions'])\n",
    "r = covariance/(np.std(df['AdWords Ad Clicks'])* np.std(df['AdWords Ad Conversions']))\n",
    "r"
   ]
  },
  {
   "cell_type": "code",
   "execution_count": 108,
   "id": "5de4d6a9",
   "metadata": {},
   "outputs": [
    {
     "data": {
      "image/png": "[encoded data removed]",
      "text/plain": [
       "<Figure size 360x360 with 1 Axes>"
      ]
     },
     "metadata": {
      "needs_background": "light"
     },
     "output_type": "display_data"
    }
   ],
   "source": [
    "# Create a scatter plot showing the correlation between Adwords clicks and Adwords conversions\n",
    "graph = sns.lmplot(x='AdWords Ad Clicks', y= 'AdWords Ad Conversions', data= df)"
   ]
  },
  {
   "cell_type": "markdown",
   "id": "f667ecf7",
   "metadata": {},
   "source": [
    "The correlation coefficient for Adwords clicks and conversions is 0.45, which is a moderate to low correlation. This means that while there is a relationship between the two variables, it's not a strong one.\n",
    "\n",
    "However, the scatter plot is definitely not showing much of a correlation."
   ]
  },
  {
   "cell_type": "markdown",
   "id": "c8535b34",
   "metadata": {},
   "source": [
    "## Summary"
   ]
  },
  {
   "cell_type": "markdown",
   "id": "7d6faa47",
   "metadata": {},
   "source": [
    "## Understanding Your Data\n",
    "### Distribution and Variables\n",
    "Types of variables: \n",
    "* Facebook Ad Views: **Quantitative Independent Discrete**\n",
    "* Facebook Ad Clicks: **Quantitative Independent Discrete**\n",
    "* Cost per Facebook Ad: **Quantitative Dependent Continuous**\n",
    "* Facebook Click-Through Rate: **Quantitative Independent Continous**\n",
    "* Facebook Conversion Rate: **Quantitative Independent Continous**\n",
    "* Facebook Cost per Click: **Quantitative Independent Continous**\n",
    "<br>\n",
    "<br>\n",
    "* AdWords Ad Views: **Quantitative Independent Discrete**\n",
    "* AdWords Ad Clicks: **Quantitative Independent Discrete**\n",
    "* Cost per AdWords Ad: **Quantitative Dependent Continuous**\n",
    "* AdWords Click-Through Rate: **Quantitative Independent Continous**\n",
    "* AdWords Conversion Rate: **Quantitative Independent Continous**\n",
    "* AdWords Cost per Click: **Quantitative Independent Continous**\n",
    "\n",
    "\n",
    "**What does the correlation coefficient and scatter plot tell you about the relationship between clicks and conversions for the AdWords Ad and Facebook Ads?**\n",
    "\n",
    "Based on the correlation coefficient, we can see that there is a stronger correlation between clicks and conversions on Facebook than on Google. This suggests that Facebook might be a better place to run ads if our goal is to generate conversions."
   ]
  },
  {
   "cell_type": "markdown",
   "id": "83c5c4d9",
   "metadata": {},
   "source": [
    "## Understanding Your Data Samples\n",
    "\n",
    "#### Facebook"
   ]
  },
  {
   "cell_type": "code",
   "execution_count": 112,
   "id": "5002b18d",
   "metadata": {},
   "outputs": [
    {
     "data": {
      "text/plain": [
       "array([[<Axes: title={'center': 'Facebook Ad Clicks'}>]], dtype=object)"
      ]
     },
     "execution_count": 112,
     "metadata": {},
     "output_type": "execute_result"
    },
    {
     "data": {
      "image/png": "[encoded data removed]",
      "text/plain": [
       "<Figure size 504x360 with 1 Axes>"
      ]
     },
     "metadata": {
      "needs_background": "light"
     },
     "output_type": "display_data"
    }
   ],
   "source": [
    "# Create a histogram to see the distribution of Clicks with bucket size of 10\n",
    "df.hist(column='Facebook Ad Clicks', bins=[16,26,36,46,56,66,76], grid=False, figsize=(7,5), color='#86bf91', zorder=2, rwidth=0.9)"
   ]
  },
  {
   "cell_type": "code",
   "execution_count": 113,
   "id": "bb99480c",
   "metadata": {},
   "outputs": [
    {
     "data": {
      "text/plain": [
       "array([[<Axes: title={'center': 'Facebook Ad Conversions'}>]],\n",
       "      dtype=object)"
      ]
     },
     "execution_count": 113,
     "metadata": {},
     "output_type": "execute_result"
    },
    {
     "data": {
      "image/png": "[encoded data removed]",
      "text/plain": [
       "<Figure size 504x360 with 1 Axes>"
      ]
     },
     "metadata": {
      "needs_background": "light"
     },
     "output_type": "display_data"
    }
   ],
   "source": [
    "# Create a histogram to see the distribution of Conversions with bucket size of 2\n",
    "df.hist(column='Facebook Ad Conversions', bins=[5,7,9,11,13,15,17,19], grid=False, figsize=(7,5), color='#86bf91', zorder=2, rwidth=0.9)"
   ]
  },
  {
   "cell_type": "markdown",
   "id": "ae6b5b92",
   "metadata": {},
   "source": [
    "From looking at the above histograms above for Facebook clicks and conversions we can conclude that the data is normally distributed "
   ]
  },
  {
   "cell_type": "markdown",
   "id": "90d15bac",
   "metadata": {},
   "source": [
    "#### AdWords"
   ]
  },
  {
   "cell_type": "code",
   "execution_count": 126,
   "id": "3a171fc1",
   "metadata": {},
   "outputs": [
    {
     "data": {
      "text/plain": [
       "array([[<Axes: title={'center': 'AdWords Ad Clicks'}>]], dtype=object)"
      ]
     },
     "execution_count": 126,
     "metadata": {},
     "output_type": "execute_result"
    },
    {
     "data": {
      "image/png": "[encoded data removed]",
      "text/plain": [
       "<Figure size 504x360 with 1 Axes>"
      ]
     },
     "metadata": {
      "needs_background": "light"
     },
     "output_type": "display_data"
    }
   ],
   "source": [
    "# Create a histogram to see the distribution of Clicks with bucket size of 10\n",
    "df.hist(column='AdWords Ad Clicks', bins=[30,40,50,60,70,80,90], grid=False, figsize=(7,5), color='#86bf91', zorder=2, rwidth=0.9)"
   ]
  },
  {
   "cell_type": "code",
   "execution_count": 132,
   "id": "ebe80347",
   "metadata": {},
   "outputs": [
    {
     "data": {
      "text/plain": [
       "array([[<Axes: title={'center': 'AdWords Ad Conversions'}>]], dtype=object)"
      ]
     },
     "execution_count": 132,
     "metadata": {},
     "output_type": "execute_result"
    },
    {
     "data": {
      "image/png": "[encoded data removed]",
      "text/plain": [
       "<Figure size 504x360 with 1 Axes>"
      ]
     },
     "metadata": {
      "needs_background": "light"
     },
     "output_type": "display_data"
    }
   ],
   "source": [
    "# Create a histogram to see the distribution of Conversions with bucket size of 1\n",
    "df.hist(column='AdWords Ad Conversions', bins=[1,2,3,4,5,6,7,8,9,10], grid=False, figsize=(7,5), color='#86bf91', zorder=2, rwidth=0.9)"
   ]
  },
  {
   "cell_type": "code",
   "execution_count": 146,
   "id": "a89ef762",
   "metadata": {},
   "outputs": [
    {
     "data": {
      "text/plain": [
       "<Axes: xlabel='AdWords Ad Conversions', ylabel='Count'>"
      ]
     },
     "execution_count": 146,
     "metadata": {},
     "output_type": "execute_result"
    },
    {
     "data": {
      "image/png": "[encoded data removed]",
      "text/plain": [
       "<Figure size 432x288 with 1 Axes>"
      ]
     },
     "metadata": {
      "needs_background": "light"
     },
     "output_type": "display_data"
    }
   ],
   "source": [
    "#Confirming that our histogram for Adwords conversions has the correct distribution \n",
    "#Sturge’s rule\n",
    "bin_count = int(np.ceil(np.log2(len(df['AdWords Ad Conversions']))) + 1)\n",
    "sns.histplot(x=df['AdWords Ad Conversions'],bins=bin_count)"
   ]
  },
  {
   "cell_type": "code",
   "execution_count": 147,
   "id": "a57efdd7",
   "metadata": {},
   "outputs": [
    {
     "data": {
      "text/plain": [
       "<Axes: xlabel='AdWords Ad Conversions', ylabel='Count'>"
      ]
     },
     "execution_count": 147,
     "metadata": {},
     "output_type": "execute_result"
    },
    {
     "data": {
      "image/png": "[encoded data removed]",
      "text/plain": [
       "<Figure size 432x288 with 1 Axes>"
      ]
     },
     "metadata": {
      "needs_background": "light"
     },
     "output_type": "display_data"
    }
   ],
   "source": [
    "#Freedman-Diaconis rule\n",
    "q1 = df['AdWords Ad Conversions'].quantile(0.25)\n",
    "q3 = df['AdWords Ad Conversions'].quantile(0.75)\n",
    "iqr = q3 - q1\n",
    "bin_width = (2 * iqr) / (len(df['AdWords Ad Conversions']) ** (1 / 3))\n",
    "bin_count = int(np.ceil((df['AdWords Ad Conversions'].max() - df['AdWords Ad Conversions'].min()) / bin_width))\n",
    "sns.histplot(x=df['AdWords Ad Conversions'],bins=bin_count)"
   ]
  },
  {
   "cell_type": "markdown",
   "id": "420de5a3",
   "metadata": {},
   "source": [
    "After setting up our histograms for Adwords clicks and conversions and confirming the conversions distribution with the Surge's rule and Freedman-Diaconis rule we can conclude that the data is normally distributed."
   ]
  },
  {
   "cell_type": "markdown",
   "id": "aaf7c865",
   "metadata": {},
   "source": [
    "## Testing Your Hypothesis\n",
    "\n",
    "### Hypothesis Testing\n",
    "\n",
    "* **Evaluation Question:** Is there a difference in the number of Conversions on Facebook vs Adwords?\n",
    "\n",
    "* **Hypothesis:**\n",
    "Three Parts of a Clear Hypothesis:\n",
    "\n",
    "    * What will change?\n",
    "\n",
    "    * How will it change?\n",
    "\n",
    "    * What will cause the change?\n",
    "\n",
    "**Our cost per conversion will be lower if we advertise on Facebook rather than on Adwords.**\n",
    "<br>\n",
    "\n",
    "    H0: There is no difference in cost per conversion between Facebook and Adwords.\n",
    "    H1: There is a difference in cost per conversion between Facebook and Adwords.\n",
    "\n",
    "* **Required Variables:**\n",
    "\n",
    "* **Choosing a Measurement Approach:**\n",
    "\n",
    "* **Selecting an Analysis:**"
   ]
  },
  {
   "cell_type": "code",
   "execution_count": 133,
   "id": "820e657d",
   "metadata": {},
   "outputs": [
    {
     "data": {
      "text/plain": [
       "{'Facebook Conversion Mean': 11.742465753424657,\n",
       " 'AdWords Conversions Mean': 5.980821917808219}"
      ]
     },
     "execution_count": 133,
     "metadata": {},
     "output_type": "execute_result"
    }
   ],
   "source": [
    "# Find the Mean for Facebook Ad Conversions and Adword Ad Conversions\n",
    "conversion_means = {}\n",
    "conversion_means['Facebook Conversion Mean'] = df['Facebook Ad Conversions']. mean()\n",
    "conversion_means['AdWords Conversions Mean'] = df['AdWords Ad Conversions']. mean()\n",
    "conversion_means"
   ]
  },
  {
   "cell_type": "code",
   "execution_count": 155,
   "id": "82a8e8fe",
   "metadata": {},
   "outputs": [
    {
     "name": "stdout",
     "output_type": "stream",
     "text": [
      "Facebook Ad Conversion variance: 8.530936385813469 AdWords Ad Conversion variance: 2.6434678176018127\n"
     ]
    }
   ],
   "source": [
    "# Find the variance on FB Conversions and Adwords Conversions\n",
    "# data_group1: FB Ads Conversions\n",
    "# data_group2: Adwords Ads Conversions\n",
    "#equal_var = 'True': The standard idependent two sample t-test will be conducted by taking into consideration the equal pop variances.\n",
    "#equal_var = 'False': The Welch's t-test will be conducted by not taking into consideration the equal pop variances.\n",
    "\n",
    "data_group1 = df['Facebook Ad Conversions']\n",
    "data_group2 = df['AdWords Ad Conversions']\n",
    "\n",
    "print('Facebook Ad Conversion variance: ' + str(np.var(data_group1)),'AdWords Ad Conversion variance: ' + str(np.var(data_group2)))"
   ]
  },
  {
   "cell_type": "code",
   "execution_count": 156,
   "id": "6d672532",
   "metadata": {},
   "outputs": [
    {
     "data": {
      "text/plain": [
       "Ttest_indResult(statistic=32.88402060758184, pvalue=4.559680828599345e-146)"
      ]
     },
     "execution_count": 156,
     "metadata": {},
     "output_type": "execute_result"
    }
   ],
   "source": [
    "# Perform a T-Test \n",
    "stats.ttest_ind(a=data_group1, b=data_group2, equal_var=True)"
   ]
  },
  {
   "cell_type": "markdown",
   "id": "4a2eaf55",
   "metadata": {},
   "source": [
    "## Summary\n",
    "\n",
    "Is there a difference between the number of conversions on the Facebook platform versus the AdWords platform?\n",
    "\n",
    "Yes, there is a difference between the number of conversions on Facebook and AdWords.\n",
    "\n",
    "**The T-stat indicates that there is a very large difference between the means of the two groups. Our p-value is also below 0.05 which means we can reject our null hypothesis and accept our alternative hypothesis, that there is a difference in cost per conversion between Facebook and Adwords.**\n"
   ]
  },
  {
   "cell_type": "markdown",
   "id": "b705e96d",
   "metadata": {},
   "source": [
    "## Choosing a Model\n",
    "\n",
    "**How many Facebook ad conversions can I expect given a certain number of Facebook ad clicks?**\n",
    "\n",
    "Simple Linear Regression"
   ]
  },
  {
   "cell_type": "code",
   "execution_count": 157,
   "id": "a2f0cca3",
   "metadata": {},
   "outputs": [
    {
     "name": "stderr",
     "output_type": "stream",
     "text": [
      "/Users/kevineddy/opt/anaconda3/lib/python3.8/site-packages/seaborn/distributions.py:2557: FutureWarning: `distplot` is a deprecated function and will be removed in a future version. Please adapt your code to use either `displot` (a figure-level function with similar flexibility) or `histplot` (an axes-level function for histograms).\n",
      "  warnings.warn(msg, FutureWarning)\n",
      "/Users/kevineddy/opt/anaconda3/lib/python3.8/site-packages/seaborn/distributions.py:2557: FutureWarning: `distplot` is a deprecated function and will be removed in a future version. Please adapt your code to use either `displot` (a figure-level function with similar flexibility) or `histplot` (an axes-level function for histograms).\n",
      "  warnings.warn(msg, FutureWarning)\n"
     ]
    },
    {
     "data": {
      "image/png": "[encoded data removed]",
      "text/plain": [
       "<Figure size 1080x360 with 2 Axes>"
      ]
     },
     "metadata": {
      "needs_background": "light"
     },
     "output_type": "display_data"
    }
   ],
   "source": [
    "target = df['Facebook Ad Conversions']\n",
    "inputs = df['Facebook Ad Clicks']\n",
    "\n",
    "#Distribution\n",
    "#Independent Varibale. - clicks\n",
    "plt.figure(figsize=(15,5))\n",
    "plt.subplot(1,2,1)\n",
    "sns.distplot(inputs)\n",
    "plt.title('Before Transformation - Clicks')\n",
    "plt.subplot(1,2,2)\n",
    "sns.distplot(np.log(inputs))\n",
    "plt.title('After transformation - Clicks')\n",
    "plt.show()\n",
    "\n"
   ]
  },
  {
   "cell_type": "code",
   "execution_count": 131,
   "id": "6f3d1b3b",
   "metadata": {},
   "outputs": [
    {
     "data": {
      "text/html": [
       "<div>\n",
       "<style scoped>\n",
       "    .dataframe tbody tr th:only-of-type {\n",
       "        vertical-align: middle;\n",
       "    }\n",
       "\n",
       "    .dataframe tbody tr th {\n",
       "        vertical-align: top;\n",
       "    }\n",
       "\n",
       "    .dataframe thead th {\n",
       "        text-align: right;\n",
       "    }\n",
       "</style>\n",
       "<table border=\"1\" class=\"dataframe\">\n",
       "  <thead>\n",
       "    <tr style=\"text-align: right;\">\n",
       "      <th></th>\n",
       "      <th>Facebook Ad Views</th>\n",
       "      <th>Facebook Ad Clicks</th>\n",
       "      <th>Facebook Ad Conversions</th>\n",
       "      <th>AdWords Ad Views</th>\n",
       "      <th>AdWords Ad Clicks</th>\n",
       "      <th>AdWords Ad Conversions</th>\n",
       "    </tr>\n",
       "  </thead>\n",
       "  <tbody>\n",
       "    <tr>\n",
       "      <th>count</th>\n",
       "      <td>365.000000</td>\n",
       "      <td>365.000000</td>\n",
       "      <td>365.000000</td>\n",
       "      <td>365.00000</td>\n",
       "      <td>365.000000</td>\n",
       "      <td>365.000000</td>\n",
       "    </tr>\n",
       "    <tr>\n",
       "      <th>mean</th>\n",
       "      <td>2179.687671</td>\n",
       "      <td>44.049315</td>\n",
       "      <td>11.742466</td>\n",
       "      <td>4717.19726</td>\n",
       "      <td>60.383562</td>\n",
       "      <td>5.980822</td>\n",
       "    </tr>\n",
       "    <tr>\n",
       "      <th>std</th>\n",
       "      <td>618.074639</td>\n",
       "      <td>12.140559</td>\n",
       "      <td>2.924786</td>\n",
       "      <td>561.11406</td>\n",
       "      <td>14.368225</td>\n",
       "      <td>1.628106</td>\n",
       "    </tr>\n",
       "    <tr>\n",
       "      <th>min</th>\n",
       "      <td>1050.000000</td>\n",
       "      <td>15.000000</td>\n",
       "      <td>5.000000</td>\n",
       "      <td>3714.00000</td>\n",
       "      <td>31.000000</td>\n",
       "      <td>3.000000</td>\n",
       "    </tr>\n",
       "    <tr>\n",
       "      <th>25%</th>\n",
       "      <td>1656.000000</td>\n",
       "      <td>35.000000</td>\n",
       "      <td>10.000000</td>\n",
       "      <td>4247.00000</td>\n",
       "      <td>49.000000</td>\n",
       "      <td>5.000000</td>\n",
       "    </tr>\n",
       "    <tr>\n",
       "      <th>50%</th>\n",
       "      <td>2202.000000</td>\n",
       "      <td>43.000000</td>\n",
       "      <td>12.000000</td>\n",
       "      <td>4711.00000</td>\n",
       "      <td>60.000000</td>\n",
       "      <td>6.000000</td>\n",
       "    </tr>\n",
       "    <tr>\n",
       "      <th>75%</th>\n",
       "      <td>2717.000000</td>\n",
       "      <td>54.000000</td>\n",
       "      <td>13.000000</td>\n",
       "      <td>5190.00000</td>\n",
       "      <td>73.000000</td>\n",
       "      <td>7.000000</td>\n",
       "    </tr>\n",
       "    <tr>\n",
       "      <th>max</th>\n",
       "      <td>3320.000000</td>\n",
       "      <td>73.000000</td>\n",
       "      <td>19.000000</td>\n",
       "      <td>5760.00000</td>\n",
       "      <td>89.000000</td>\n",
       "      <td>9.000000</td>\n",
       "    </tr>\n",
       "  </tbody>\n",
       "</table>\n",
       "</div>"
      ],
      "text/plain": [
       "       Facebook Ad Views  Facebook Ad Clicks  Facebook Ad Conversions  \\\n",
       "count         365.000000          365.000000               365.000000   \n",
       "mean         2179.687671           44.049315                11.742466   \n",
       "std           618.074639           12.140559                 2.924786   \n",
       "min          1050.000000           15.000000                 5.000000   \n",
       "25%          1656.000000           35.000000                10.000000   \n",
       "50%          2202.000000           43.000000                12.000000   \n",
       "75%          2717.000000           54.000000                13.000000   \n",
       "max          3320.000000           73.000000                19.000000   \n",
       "\n",
       "       AdWords Ad Views  AdWords Ad Clicks  AdWords Ad Conversions  \n",
       "count         365.00000         365.000000              365.000000  \n",
       "mean         4717.19726          60.383562                5.980822  \n",
       "std           561.11406          14.368225                1.628106  \n",
       "min          3714.00000          31.000000                3.000000  \n",
       "25%          4247.00000          49.000000                5.000000  \n",
       "50%          4711.00000          60.000000                6.000000  \n",
       "75%          5190.00000          73.000000                7.000000  \n",
       "max          5760.00000          89.000000                9.000000  "
      ]
     },
     "execution_count": 131,
     "metadata": {},
     "output_type": "execute_result"
    }
   ],
   "source": [
    "df_fb_campaign.describe()"
   ]
  },
  {
   "cell_type": "code",
   "execution_count": 188,
   "id": "d3e38874",
   "metadata": {},
   "outputs": [
    {
     "name": "stdout",
     "output_type": "stream",
     "text": [
      "IQR of Clikcs: 19.0\n",
      "lower outlier: 6.5\n",
      "upper outlier: 82.5\n",
      "New Shape:  (365, 17)\n"
     ]
    }
   ],
   "source": [
    "#Calculate the upper and lower limits for clicks\n",
    "q1 = np.percentile(df_fb_campaign['Facebook Ad Clicks'], 25)\n",
    "q3 = np.percentile(df_fb_campaign['Facebook Ad Clicks'], 75)\n",
    "\n",
    "#IQR for Clicks\n",
    "iqr_clicks = iqr(df_fb_campaign['Facebook Ad Clicks'])\n",
    "print('IQR of Clikcs:', iqr_clicks)\n",
    "\n",
    "#Outliers for Clicks\n",
    "lower_outlier = q1-1.5*iqr_clicks\n",
    "upper_outlier = q3+1.5*iqr_clicks\n",
    "print('lower outlier:', lower_outlier)\n",
    "print('upper outlier:', upper_outlier)\n",
    "\n",
    "#create arrays of boolean vlaues indicationg the outlier rows \n",
    "upper_arrary = np.where(df_fb_campaign['Facebook Ad Clicks']>=upper_outlier)[0]\n",
    "lower_arrary = np.where(df_fb_campaign['Facebook Ad Clicks']<=lower_outlier)[0]\n",
    "\n",
    "#Remove the outliers\n",
    "df_fb_campaign.drop(index=upper_arrary, inplace=True)\n",
    "df_fb_campaign.drop(index=lower_arrary, inplace=True)\n",
    "\n",
    "#print new shape of the df\n",
    "print('New Shape: ', df_fb_campaign.shape)"
   ]
  },
  {
   "cell_type": "code",
   "execution_count": 189,
   "id": "bdaf8144",
   "metadata": {},
   "outputs": [
    {
     "name": "stdout",
     "output_type": "stream",
     "text": [
      "IQR of Conversions: 3.0\n",
      "lower outlier: 5.5\n",
      "upper outlier: 17.5\n",
      "New Shape:  (353, 17)\n"
     ]
    }
   ],
   "source": [
    "#Calculate the upper and lower limits for conversions\n",
    "q1_conv = np.percentile(df_fb_campaign['Facebook Ad Conversions'], 25)\n",
    "q3_conv = np.percentile(df_fb_campaign['Facebook Ad Conversions'], 75)\n",
    "\n",
    "# IQR of Conversions\n",
    "iqr_conv = iqr(df_fb_campaign['Facebook Ad Conversions'])\n",
    "print('IQR of Conversions:',iqr_conv)\n",
    "\n",
    "#Outliers for conversions\n",
    "lower_outlier = q1_conv-1.5*iqr_conv\n",
    "upper_outlier = q3_conv+1.5*iqr_conv\n",
    "print('lower outlier:', lower_outlier)\n",
    "print('upper outlier:', upper_outlier)\n",
    "\n",
    "#create arrays of boolean vlaues indicationg the outlier rows \n",
    "upper_arrary_conv = np.where(df_fb_campaign['Facebook Ad Conversions']>=upper_outlier)[0]\n",
    "lower_arrary_conv = np.where(df_fb_campaign['Facebook Ad Conversions']<=lower_outlier)[0]\n",
    "\n",
    "#Remove the outliers\n",
    "df_fb_campaign.drop(index=upper_arrary_conv, inplace=True)\n",
    "df_fb_campaign.drop(index=lower_arrary_conv, inplace=True)\n",
    "\n",
    "#print new shape of the df\n",
    "print('New Shape: ', df_fb_campaign.shape)"
   ]
  },
  {
   "cell_type": "code",
   "execution_count": 199,
   "id": "a3d39e1d",
   "metadata": {},
   "outputs": [
    {
     "data": {
      "image/png": "[encoded data removed]",
      "text/plain": [
       "<Figure size 432x288 with 1 Axes>"
      ]
     },
     "metadata": {
      "needs_background": "light"
     },
     "output_type": "display_data"
    }
   ],
   "source": [
    "# mean and standard deviation\n",
    "mu, std = norm.fit(df_fb_campaign['Facebook Ad Conversions'])\n",
    "# Plot the histogram.\n",
    "plt.hist(df_fb_campaign['Facebook Ad Conversions'], bins=10, density=True, alpha=0.5, color='b')\n",
    "\n",
    "# Plot the PDF.\n",
    "xmin, xmax = plt.xlim()\n",
    "x = np.linspace(xmin, xmax, 100)\n",
    "p = norm.pdf(x, mu, std)\n",
    "  \n",
    "plt.plot(x, p, 'k', linewidth=2)\n",
    "title = \"Fit Values: {:.2f} and {:.2f}\".format(mu, std)\n",
    "plt.title(title)\n",
    "  \n",
    "plt.show()"
   ]
  },
  {
   "cell_type": "code",
   "execution_count": 223,
   "id": "db92f8a0",
   "metadata": {},
   "outputs": [],
   "source": [
    "\n",
    "# define the data/predictors as the pre-set feature names  \n",
    "df = pd.DataFrame(df_fb_campaign, columns=['Facebook Ad Clicks'])\n",
    "\n",
    "# Put the target (Facebook Ad Conversions) in another DataFrame\n",
    "target = pd.DataFrame(df_fb_campaign, columns=[\"Facebook Ad Conversions\"])"
   ]
  },
  {
   "cell_type": "code",
   "execution_count": 226,
   "id": "aef50d05",
   "metadata": {},
   "outputs": [
    {
     "data": {
      "text/html": [
       "<table class=\"simpletable\">\n",
       "<caption>OLS Regression Results</caption>\n",
       "<tr>\n",
       "  <th>Dep. Variable:</th>    <td>Facebook Ad Conversions</td> <th>  R-squared (uncentered):</th>      <td>   0.982</td> \n",
       "</tr>\n",
       "<tr>\n",
       "  <th>Model:</th>                      <td>OLS</td>           <th>  Adj. R-squared (uncentered):</th> <td>   0.982</td> \n",
       "</tr>\n",
       "<tr>\n",
       "  <th>Method:</th>                <td>Least Squares</td>      <th>  F-statistic:       </th>          <td>1.960e+04</td>\n",
       "</tr>\n",
       "<tr>\n",
       "  <th>Date:</th>                <td>Fri, 07 Jul 2023</td>     <th>  Prob (F-statistic):</th>          <td>1.10e-310</td>\n",
       "</tr>\n",
       "<tr>\n",
       "  <th>Time:</th>                    <td>12:52:45</td>         <th>  Log-Likelihood:    </th>          <td> -661.92</td> \n",
       "</tr>\n",
       "<tr>\n",
       "  <th>No. Observations:</th>         <td>   353</td>          <th>  AIC:               </th>          <td>   1326.</td> \n",
       "</tr>\n",
       "<tr>\n",
       "  <th>Df Residuals:</th>             <td>   352</td>          <th>  BIC:               </th>          <td>   1330.</td> \n",
       "</tr>\n",
       "<tr>\n",
       "  <th>Df Model:</th>                 <td>     1</td>          <th>                     </th>              <td> </td>    \n",
       "</tr>\n",
       "<tr>\n",
       "  <th>Covariance Type:</th>         <td>nonrobust</td>        <th>                     </th>              <td> </td>    \n",
       "</tr>\n",
       "</table>\n",
       "<table class=\"simpletable\">\n",
       "<tr>\n",
       "           <td></td>             <th>coef</th>     <th>std err</th>      <th>t</th>      <th>P>|t|</th>  <th>[0.025</th>    <th>0.975]</th>  \n",
       "</tr>\n",
       "<tr>\n",
       "  <th>Facebook Ad Clicks</th> <td>    0.2619</td> <td>    0.002</td> <td>  139.985</td> <td> 0.000</td> <td>    0.258</td> <td>    0.266</td>\n",
       "</tr>\n",
       "</table>\n",
       "<table class=\"simpletable\">\n",
       "<tr>\n",
       "  <th>Omnibus:</th>       <td> 8.327</td> <th>  Durbin-Watson:     </th> <td>   1.837</td>\n",
       "</tr>\n",
       "<tr>\n",
       "  <th>Prob(Omnibus):</th> <td> 0.016</td> <th>  Jarque-Bera (JB):  </th> <td>   4.677</td>\n",
       "</tr>\n",
       "<tr>\n",
       "  <th>Skew:</th>          <td> 0.022</td> <th>  Prob(JB):          </th> <td>  0.0965</td>\n",
       "</tr>\n",
       "<tr>\n",
       "  <th>Kurtosis:</th>      <td> 2.438</td> <th>  Cond. No.          </th> <td>    1.00</td>\n",
       "</tr>\n",
       "</table><br/><br/>Notes:<br/>[1] R² is computed without centering (uncentered) since the model does not contain a constant.<br/>[2] Standard Errors assume that the covariance matrix of the errors is correctly specified."
      ],
      "text/plain": [
       "<class 'statsmodels.iolib.summary.Summary'>\n",
       "\"\"\"\n",
       "                                   OLS Regression Results                                   \n",
       "============================================================================================\n",
       "Dep. Variable:     Facebook Ad Conversions   R-squared (uncentered):                   0.982\n",
       "Model:                                 OLS   Adj. R-squared (uncentered):              0.982\n",
       "Method:                      Least Squares   F-statistic:                          1.960e+04\n",
       "Date:                     Fri, 07 Jul 2023   Prob (F-statistic):                   1.10e-310\n",
       "Time:                             12:52:45   Log-Likelihood:                         -661.92\n",
       "No. Observations:                      353   AIC:                                      1326.\n",
       "Df Residuals:                          352   BIC:                                      1330.\n",
       "Df Model:                                1                                                  \n",
       "Covariance Type:                 nonrobust                                                  \n",
       "======================================================================================\n",
       "                         coef    std err          t      P>|t|      [0.025      0.975]\n",
       "--------------------------------------------------------------------------------------\n",
       "Facebook Ad Clicks     0.2619      0.002    139.985      0.000       0.258       0.266\n",
       "==============================================================================\n",
       "Omnibus:                        8.327   Durbin-Watson:                   1.837\n",
       "Prob(Omnibus):                  0.016   Jarque-Bera (JB):                4.677\n",
       "Skew:                           0.022   Prob(JB):                       0.0965\n",
       "Kurtosis:                       2.438   Cond. No.                         1.00\n",
       "==============================================================================\n",
       "\n",
       "Notes:\n",
       "[1] R² is computed without centering (uncentered) since the model does not contain a constant.\n",
       "[2] Standard Errors assume that the covariance matrix of the errors is correctly specified.\n",
       "\"\"\""
      ]
     },
     "execution_count": 226,
     "metadata": {},
     "output_type": "execute_result"
    }
   ],
   "source": [
    "## Without a constant\n",
    "\n",
    "import statsmodels.api as sm\n",
    "\n",
    "X = df\n",
    "y = target\n",
    "\n",
    "# Note the difference in argument order\n",
    "model = sm.OLS(y, X).fit()\n",
    "predictions = model.predict(X) # make the predictions by the model\n",
    "\n",
    "# Print out the statistics\n",
    "model.summary()"
   ]
  },
  {
   "cell_type": "code",
   "execution_count": 228,
   "id": "29257139",
   "metadata": {},
   "outputs": [
    {
     "name": "stderr",
     "output_type": "stream",
     "text": [
      "/Users/kevineddy/opt/anaconda3/lib/python3.8/site-packages/statsmodels/tsa/tsatools.py:142: FutureWarning: In a future version of pandas all arguments of concat except for the argument 'objs' will be keyword-only\n",
      "  x = pd.concat(x[::order], 1)\n"
     ]
    },
    {
     "data": {
      "text/html": [
       "<table class=\"simpletable\">\n",
       "<caption>OLS Regression Results</caption>\n",
       "<tr>\n",
       "  <th>Dep. Variable:</th>    <td>Facebook Ad Conversions</td> <th>  R-squared:         </th> <td>   0.736</td> \n",
       "</tr>\n",
       "<tr>\n",
       "  <th>Model:</th>                      <td>OLS</td>           <th>  Adj. R-squared:    </th> <td>   0.736</td> \n",
       "</tr>\n",
       "<tr>\n",
       "  <th>Method:</th>                <td>Least Squares</td>      <th>  F-statistic:       </th> <td>   980.1</td> \n",
       "</tr>\n",
       "<tr>\n",
       "  <th>Date:</th>                <td>Fri, 07 Jul 2023</td>     <th>  Prob (F-statistic):</th> <td>1.26e-103</td>\n",
       "</tr>\n",
       "<tr>\n",
       "  <th>Time:</th>                    <td>12:53:47</td>         <th>  Log-Likelihood:    </th> <td> -618.92</td> \n",
       "</tr>\n",
       "<tr>\n",
       "  <th>No. Observations:</th>         <td>   353</td>          <th>  AIC:               </th> <td>   1242.</td> \n",
       "</tr>\n",
       "<tr>\n",
       "  <th>Df Residuals:</th>             <td>   351</td>          <th>  BIC:               </th> <td>   1250.</td> \n",
       "</tr>\n",
       "<tr>\n",
       "  <th>Df Model:</th>                 <td>     1</td>          <th>                     </th>     <td> </td>    \n",
       "</tr>\n",
       "<tr>\n",
       "  <th>Covariance Type:</th>         <td>nonrobust</td>        <th>                     </th>     <td> </td>    \n",
       "</tr>\n",
       "</table>\n",
       "<table class=\"simpletable\">\n",
       "<tr>\n",
       "           <td></td>             <th>coef</th>     <th>std err</th>      <th>t</th>      <th>P>|t|</th>  <th>[0.025</th>    <th>0.975]</th>  \n",
       "</tr>\n",
       "<tr>\n",
       "  <th>const</th>              <td>    2.8388</td> <td>    0.289</td> <td>    9.840</td> <td> 0.000</td> <td>    2.271</td> <td>    3.406</td>\n",
       "</tr>\n",
       "<tr>\n",
       "  <th>Facebook Ad Clicks</th> <td>    0.2009</td> <td>    0.006</td> <td>   31.306</td> <td> 0.000</td> <td>    0.188</td> <td>    0.214</td>\n",
       "</tr>\n",
       "</table>\n",
       "<table class=\"simpletable\">\n",
       "<tr>\n",
       "  <th>Omnibus:</th>       <td>142.446</td> <th>  Durbin-Watson:     </th> <td>   1.986</td>\n",
       "</tr>\n",
       "<tr>\n",
       "  <th>Prob(Omnibus):</th> <td> 0.000</td>  <th>  Jarque-Bera (JB):  </th> <td>  19.940</td>\n",
       "</tr>\n",
       "<tr>\n",
       "  <th>Skew:</th>          <td> 0.112</td>  <th>  Prob(JB):          </th> <td>4.68e-05</td>\n",
       "</tr>\n",
       "<tr>\n",
       "  <th>Kurtosis:</th>      <td> 1.857</td>  <th>  Cond. No.          </th> <td>    174.</td>\n",
       "</tr>\n",
       "</table><br/><br/>Notes:<br/>[1] Standard Errors assume that the covariance matrix of the errors is correctly specified."
      ],
      "text/plain": [
       "<class 'statsmodels.iolib.summary.Summary'>\n",
       "\"\"\"\n",
       "                               OLS Regression Results                              \n",
       "===================================================================================\n",
       "Dep. Variable:     Facebook Ad Conversions   R-squared:                       0.736\n",
       "Model:                                 OLS   Adj. R-squared:                  0.736\n",
       "Method:                      Least Squares   F-statistic:                     980.1\n",
       "Date:                     Fri, 07 Jul 2023   Prob (F-statistic):          1.26e-103\n",
       "Time:                             12:53:47   Log-Likelihood:                -618.92\n",
       "No. Observations:                      353   AIC:                             1242.\n",
       "Df Residuals:                          351   BIC:                             1250.\n",
       "Df Model:                                1                                         \n",
       "Covariance Type:                 nonrobust                                         \n",
       "======================================================================================\n",
       "                         coef    std err          t      P>|t|      [0.025      0.975]\n",
       "--------------------------------------------------------------------------------------\n",
       "const                  2.8388      0.289      9.840      0.000       2.271       3.406\n",
       "Facebook Ad Clicks     0.2009      0.006     31.306      0.000       0.188       0.214\n",
       "==============================================================================\n",
       "Omnibus:                      142.446   Durbin-Watson:                   1.986\n",
       "Prob(Omnibus):                  0.000   Jarque-Bera (JB):               19.940\n",
       "Skew:                           0.112   Prob(JB):                     4.68e-05\n",
       "Kurtosis:                       1.857   Cond. No.                         174.\n",
       "==============================================================================\n",
       "\n",
       "Notes:\n",
       "[1] Standard Errors assume that the covariance matrix of the errors is correctly specified.\n",
       "\"\"\""
      ]
     },
     "execution_count": 228,
     "metadata": {},
     "output_type": "execute_result"
    }
   ],
   "source": [
    "\n",
    "X = df ## X usually means our input variables (or independent variables) in this case Clicks\n",
    "y = target ## Y usually means our output/dependent variable in this case Conversions\n",
    "X = sm.add_constant(X) ## let's add an intercept (beta_0) to our model\n",
    "\n",
    "# Note the difference in argument order\n",
    "model = sm.OLS(y, X).fit() ## sm.OLS(output, input)\n",
    "predictions = model.predict(X)\n",
    "\n",
    "# Print out the statistics\n",
    "model.summary()"
   ]
  },
  {
   "cell_type": "code",
   "execution_count": 230,
   "id": "54a0c6a4",
   "metadata": {},
   "outputs": [],
   "source": [
    "#SLR\n",
    "from sklearn import linear_model\n",
    "lm = linear_model.LinearRegression()\n",
    "model = lm.fit(X,y)"
   ]
  },
  {
   "cell_type": "code",
   "execution_count": 233,
   "id": "2bd750dd",
   "metadata": {},
   "outputs": [
    {
     "name": "stdout",
     "output_type": "stream",
     "text": [
      "[[ 6.4548929 ]\n",
      " [10.07097962]\n",
      " [ 8.06204256]\n",
      " [ 8.26293626]\n",
      " [ 5.85221178]\n",
      " [10.27187333]\n",
      " [12.68259781]\n",
      " [12.68259781]\n",
      " [10.07097962]\n",
      " [11.07544816]\n",
      " [13.08438522]\n",
      " [14.08885376]\n",
      " [12.4817041 ]\n",
      " [11.27634186]\n",
      " [14.08885376]\n",
      " [ 9.06651109]\n",
      " [ 8.46382997]\n",
      " [10.87455445]\n",
      " [ 8.86561738]\n",
      " [12.88349152]\n",
      " [ 9.4682985 ]\n",
      " [12.07991669]\n",
      " [ 8.46382997]\n",
      " [11.47723557]\n",
      " [13.28527893]\n",
      " [ 7.66025514]\n",
      " [11.87902298]\n",
      " [13.88796005]\n",
      " [11.47723557]\n",
      " [ 8.46382997]\n",
      " [ 9.06651109]\n",
      " [ 7.86114885]\n",
      " [ 8.06204256]\n",
      " [ 7.86114885]\n",
      " [14.08885376]\n",
      " [11.07544816]\n",
      " [ 9.66919221]\n",
      " [ 9.06651109]\n",
      " [11.07544816]\n",
      " [11.07544816]\n",
      " [ 9.87008592]\n",
      " [ 8.66472368]\n",
      " [13.68706634]\n",
      " [10.87455445]\n",
      " [ 9.06651109]\n",
      " [11.27634186]\n",
      " [ 8.06204256]\n",
      " [ 9.06651109]\n",
      " [ 9.06651109]\n",
      " [12.4817041 ]\n",
      " [ 9.66919221]\n",
      " [ 9.2674048 ]\n",
      " [12.4817041 ]\n",
      " [ 8.46382997]\n",
      " [13.08438522]\n",
      " [11.67812928]\n",
      " [ 9.87008592]\n",
      " [13.88796005]\n",
      " [13.68706634]\n",
      " [12.07991669]\n",
      " [14.28974746]\n",
      " [ 8.46382997]\n",
      " [10.87455445]\n",
      " [11.47723557]\n",
      " [13.08438522]\n",
      " [11.67812928]\n",
      " [ 7.66025514]\n",
      " [ 8.66472368]\n",
      " [14.69153488]\n",
      " [11.47723557]\n",
      " [15.09332229]\n",
      " [13.68706634]\n",
      " [10.67366074]\n",
      " [ 9.4682985 ]\n",
      " [ 9.2674048 ]\n",
      " [14.69153488]\n",
      " [ 8.46382997]\n",
      " [10.27187333]\n",
      " [12.4817041 ]\n",
      " [ 9.87008592]\n",
      " [10.07097962]\n",
      " [13.68706634]\n",
      " [11.07544816]\n",
      " [10.87455445]\n",
      " [10.07097962]\n",
      " [10.67366074]\n",
      " [ 7.86114885]\n",
      " [11.07544816]\n",
      " [11.27634186]\n",
      " [ 8.86561738]\n",
      " [10.67366074]\n",
      " [ 9.66919221]\n",
      " [13.28527893]\n",
      " [13.48617264]\n",
      " [ 9.87008592]\n",
      " [11.67812928]\n",
      " [ 8.06204256]\n",
      " [10.87455445]\n",
      " [14.28974746]\n",
      " [10.07097962]\n",
      " [ 7.25846773]\n",
      " [11.47723557]\n",
      " [14.28974746]\n",
      " [10.67366074]\n",
      " [10.07097962]\n",
      " [14.49064117]\n",
      " [10.07097962]\n",
      " [ 9.4682985 ]\n",
      " [11.47723557]\n",
      " [15.294216  ]\n",
      " [11.87902298]\n",
      " [13.08438522]\n",
      " [ 6.65578661]\n",
      " [10.67366074]\n",
      " [14.69153488]\n",
      " [13.48617264]\n",
      " [10.07097962]\n",
      " [ 9.06651109]\n",
      " [ 7.05757402]\n",
      " [13.28527893]\n",
      " [13.68706634]\n",
      " [ 9.87008592]\n",
      " [12.4817041 ]\n",
      " [13.48617264]\n",
      " [ 7.86114885]\n",
      " [ 7.86114885]\n",
      " [14.49064117]\n",
      " [11.07544816]\n",
      " [12.2808104 ]\n",
      " [ 9.66919221]\n",
      " [11.27634186]\n",
      " [ 9.4682985 ]\n",
      " [13.68706634]\n",
      " [11.67812928]\n",
      " [12.88349152]\n",
      " [14.69153488]\n",
      " [ 7.45936144]\n",
      " [14.69153488]\n",
      " [10.07097962]\n",
      " [11.27634186]\n",
      " [ 8.66472368]\n",
      " [ 8.06204256]\n",
      " [ 7.45936144]\n",
      " [12.4817041 ]\n",
      " [12.07991669]\n",
      " [10.27187333]\n",
      " [10.07097962]\n",
      " [10.27187333]\n",
      " [11.07544816]\n",
      " [ 7.45936144]\n",
      " [10.87455445]\n",
      " [ 9.87008592]\n",
      " [15.09332229]\n",
      " [10.07097962]\n",
      " [12.4817041 ]\n",
      " [ 7.25846773]\n",
      " [12.07991669]\n",
      " [14.08885376]\n",
      " [ 9.87008592]\n",
      " [ 8.66472368]\n",
      " [11.67812928]\n",
      " [10.87455445]\n",
      " [12.88349152]\n",
      " [ 9.06651109]\n",
      " [ 9.4682985 ]\n",
      " [10.67366074]\n",
      " [13.68706634]\n",
      " [13.68706634]\n",
      " [ 8.86561738]\n",
      " [14.49064117]\n",
      " [10.07097962]\n",
      " [ 9.66919221]\n",
      " [ 9.4682985 ]\n",
      " [13.48617264]\n",
      " [12.4817041 ]\n",
      " [10.87455445]\n",
      " [10.67366074]\n",
      " [ 9.66919221]\n",
      " [12.07991669]\n",
      " [13.88796005]\n",
      " [11.27634186]\n",
      " [ 9.06651109]\n",
      " [ 8.86561738]\n",
      " [12.2808104 ]\n",
      " [10.87455445]\n",
      " [ 9.4682985 ]\n",
      " [12.07991669]\n",
      " [13.48617264]\n",
      " [10.67366074]\n",
      " [14.08885376]\n",
      " [13.88796005]\n",
      " [10.67366074]\n",
      " [12.88349152]\n",
      " [ 8.26293626]\n",
      " [13.68706634]\n",
      " [14.08885376]\n",
      " [10.07097962]\n",
      " [ 8.86561738]\n",
      " [15.294216  ]\n",
      " [10.07097962]\n",
      " [13.68706634]\n",
      " [14.89242858]\n",
      " [12.68259781]\n",
      " [15.69600341]\n",
      " [11.27634186]\n",
      " [14.89242858]\n",
      " [10.87455445]\n",
      " [10.47276704]\n",
      " [12.07991669]\n",
      " [13.08438522]\n",
      " [16.09779082]\n",
      " [13.48617264]\n",
      " [ 9.87008592]\n",
      " [ 7.45936144]\n",
      " [ 9.4682985 ]\n",
      " [13.88796005]\n",
      " [14.49064117]\n",
      " [10.07097962]\n",
      " [11.27634186]\n",
      " [13.28527893]\n",
      " [ 9.87008592]\n",
      " [ 9.66919221]\n",
      " [11.87902298]\n",
      " [ 8.06204256]\n",
      " [ 7.45936144]\n",
      " [14.08885376]\n",
      " [12.2808104 ]\n",
      " [13.08438522]\n",
      " [ 9.66919221]\n",
      " [14.69153488]\n",
      " [11.07544816]\n",
      " [10.87455445]\n",
      " [ 9.87008592]\n",
      " [10.87455445]\n",
      " [ 8.66472368]\n",
      " [ 8.46382997]\n",
      " [13.08438522]\n",
      " [11.07544816]\n",
      " [ 9.2674048 ]\n",
      " [10.67366074]\n",
      " [15.4951097 ]\n",
      " [11.27634186]\n",
      " [13.08438522]\n",
      " [ 8.66472368]\n",
      " [ 9.4682985 ]\n",
      " [14.08885376]\n",
      " [13.68706634]\n",
      " [10.27187333]\n",
      " [14.89242858]\n",
      " [14.08885376]\n",
      " [ 9.4682985 ]\n",
      " [10.87455445]\n",
      " [11.67812928]\n",
      " [ 8.86561738]\n",
      " [11.47723557]\n",
      " [14.08885376]\n",
      " [13.48617264]\n",
      " [14.28974746]\n",
      " [14.28974746]\n",
      " [10.47276704]\n",
      " [10.07097962]\n",
      " [ 9.66919221]\n",
      " [10.07097962]\n",
      " [12.2808104 ]\n",
      " [14.28974746]\n",
      " [15.294216  ]\n",
      " [ 8.86561738]\n",
      " [15.09332229]\n",
      " [13.28527893]\n",
      " [15.294216  ]\n",
      " [14.08885376]\n",
      " [14.49064117]\n",
      " [14.28974746]\n",
      " [ 7.86114885]\n",
      " [ 9.87008592]\n",
      " [11.27634186]\n",
      " [13.88796005]\n",
      " [10.07097962]\n",
      " [ 8.46382997]\n",
      " [10.67366074]\n",
      " [10.07097962]\n",
      " [14.49064117]\n",
      " [11.67812928]\n",
      " [13.08438522]\n",
      " [12.07991669]\n",
      " [13.08438522]\n",
      " [13.48617264]\n",
      " [12.68259781]\n",
      " [15.89689712]\n",
      " [16.90136565]\n",
      " [11.47723557]\n",
      " [12.07991669]\n",
      " [15.294216  ]\n",
      " [14.08885376]\n",
      " [13.68706634]\n",
      " [ 9.66919221]\n",
      " [17.10225936]\n",
      " [ 8.46382997]\n",
      " [10.67366074]\n",
      " [13.48617264]\n",
      " [ 9.87008592]\n",
      " [12.07991669]\n",
      " [ 9.4682985 ]\n",
      " [10.87455445]\n",
      " [10.47276704]\n",
      " [14.28974746]\n",
      " [15.89689712]\n",
      " [15.09332229]\n",
      " [11.47723557]\n",
      " [12.4817041 ]\n",
      " [15.69600341]\n",
      " [10.27187333]\n",
      " [13.08438522]\n",
      " [14.69153488]\n",
      " [14.69153488]\n",
      " [ 9.66919221]\n",
      " [14.28974746]\n",
      " [10.07097962]\n",
      " [14.28974746]\n",
      " [13.88796005]\n",
      " [ 9.2674048 ]\n",
      " [14.08885376]\n",
      " [16.49957824]\n",
      " [12.68259781]\n",
      " [10.87455445]\n",
      " [14.08885376]\n",
      " [14.69153488]\n",
      " [10.27187333]\n",
      " [10.07097962]\n",
      " [ 9.4682985 ]\n",
      " [10.27187333]\n",
      " [11.87902298]\n",
      " [16.29868453]\n",
      " [10.07097962]\n",
      " [16.29868453]\n",
      " [15.09332229]\n",
      " [13.48617264]\n",
      " [15.69600341]\n",
      " [12.07991669]\n",
      " [11.87902298]\n",
      " [17.30315306]\n",
      " [10.87455445]\n",
      " [13.68706634]\n",
      " [14.49064117]\n",
      " [10.67366074]\n",
      " [15.294216  ]\n",
      " [12.4817041 ]\n",
      " [15.4951097 ]\n",
      " [ 9.4682985 ]\n",
      " [13.08438522]\n",
      " [11.67812928]\n",
      " [10.27187333]\n",
      " [14.89242858]]\n"
     ]
    },
    {
     "ename": "TypeError",
     "evalue": "'NoneType' object is not subscriptable",
     "output_type": "error",
     "traceback": [
      "\u001b[0;31m---------------------------------------------------------------------------\u001b[0m",
      "\u001b[0;31mTypeError\u001b[0m                                 Traceback (most recent call last)",
      "\u001b[0;32m<ipython-input-233-fa4e9040e769>\u001b[0m in \u001b[0;36m<module>\u001b[0;34m\u001b[0m\n\u001b[1;32m      1\u001b[0m \u001b[0mpredictions\u001b[0m \u001b[0;34m=\u001b[0m \u001b[0mlm\u001b[0m\u001b[0;34m.\u001b[0m\u001b[0mpredict\u001b[0m\u001b[0;34m(\u001b[0m\u001b[0mX\u001b[0m\u001b[0;34m)\u001b[0m\u001b[0;34m\u001b[0m\u001b[0;34m\u001b[0m\u001b[0m\n\u001b[0;32m----> 2\u001b[0;31m \u001b[0mprint\u001b[0m\u001b[0;34m(\u001b[0m\u001b[0mpredictions\u001b[0m\u001b[0;34m)\u001b[0m\u001b[0;34m[\u001b[0m\u001b[0;36m0\u001b[0m\u001b[0;34m:\u001b[0m\u001b[0;36m5\u001b[0m\u001b[0;34m]\u001b[0m\u001b[0;34m\u001b[0m\u001b[0;34m\u001b[0m\u001b[0m\n\u001b[0m",
      "\u001b[0;31mTypeError\u001b[0m: 'NoneType' object is not subscriptable"
     ]
    }
   ],
   "source": [
    "predictions = lm.predict(X)\n",
    "print(predictions)"
   ]
  },
  {
   "cell_type": "code",
   "execution_count": 234,
   "id": "1fcca040",
   "metadata": {},
   "outputs": [
    {
     "data": {
      "text/plain": [
       "0.7363016899897157"
      ]
     },
     "execution_count": 234,
     "metadata": {},
     "output_type": "execute_result"
    }
   ],
   "source": [
    "lm.score(X,y)"
   ]
  },
  {
   "cell_type": "code",
   "execution_count": 235,
   "id": "892367f5",
   "metadata": {},
   "outputs": [
    {
     "data": {
      "text/plain": [
       "array([[0.        , 0.20089371]])"
      ]
     },
     "execution_count": 235,
     "metadata": {},
     "output_type": "execute_result"
    }
   ],
   "source": [
    "lm.coef_"
   ]
  },
  {
   "cell_type": "code",
   "execution_count": 236,
   "id": "06ded172",
   "metadata": {},
   "outputs": [
    {
     "data": {
      "text/plain": [
       "array([2.83880619])"
      ]
     },
     "execution_count": 236,
     "metadata": {},
     "output_type": "execute_result"
    }
   ],
   "source": [
    "lm.intercept_"
   ]
  },
  {
   "cell_type": "code",
   "execution_count": 239,
   "id": "29d7f650",
   "metadata": {},
   "outputs": [
    {
     "name": "stdout",
     "output_type": "stream",
     "text": [
      "(282, 1) (282, 1)\n",
      "(71, 1) (71, 1)\n"
     ]
    }
   ],
   "source": [
    "from sklearn.model_selection import train_test_split\n",
    "# create training and testing vars\n",
    "X_train, X_test, y_train, y_test = train_test_split(df, y, test_size=0.2)\n",
    "print(X_train.shape, y_train.shape)\n",
    "print(X_test.shape, y_test.shape)"
   ]
  },
  {
   "cell_type": "code",
   "execution_count": 241,
   "id": "d487ec3a",
   "metadata": {},
   "outputs": [
    {
     "data": {
      "text/plain": [
       "array([[14.45336508],\n",
       "       [ 9.84418427],\n",
       "       [11.64777676],\n",
       "       [13.25097009],\n",
       "       [15.25496175]])"
      ]
     },
     "execution_count": 241,
     "metadata": {},
     "output_type": "execute_result"
    }
   ],
   "source": [
    "# fit a model\n",
    "lm = linear_model.LinearRegression()\n",
    "model = lm.fit(X_train, y_train)\n",
    "predictions = lm.predict(X_test)\n",
    "predictions[0:5]"
   ]
  },
  {
   "cell_type": "code",
   "execution_count": 243,
   "id": "a4f194a7",
   "metadata": {},
   "outputs": [
    {
     "data": {
      "text/plain": [
       "Text(0, 0.5, 'Predictions')"
      ]
     },
     "execution_count": 243,
     "metadata": {},
     "output_type": "execute_result"
    },
    {
     "data": {
      "image/png": "[encoded data removed]",
      "text/plain": [
       "<Figure size 432x288 with 1 Axes>"
      ]
     },
     "metadata": {
      "needs_background": "light"
     },
     "output_type": "display_data"
    }
   ],
   "source": [
    "## The line / model\n",
    "plt.scatter(y_test, predictions)\n",
    "plt.xlabel('True Values')\n",
    "plt.ylabel('Predictions')"
   ]
  },
  {
   "cell_type": "code",
   "execution_count": 246,
   "id": "9b459c7a",
   "metadata": {},
   "outputs": [
    {
     "name": "stdout",
     "output_type": "stream",
     "text": [
      "Score: 0.7365619615472816\n"
     ]
    }
   ],
   "source": [
    "print( 'Score:', model.score(X_test, y_test))"
   ]
  },
  {
   "cell_type": "code",
   "execution_count": 249,
   "id": "0c4c4c0b",
   "metadata": {},
   "outputs": [
    {
     "name": "stdout",
     "output_type": "stream",
     "text": [
      "Cross-validated scores: [0.64854318 0.73529114 0.74404712 0.70630192 0.75463103 0.67295319]\n"
     ]
    }
   ],
   "source": [
    "#Cross Validation \n",
    "# Necessary imports: \n",
    "from sklearn.model_selection import cross_val_score, cross_val_predict\n",
    "from sklearn import metrics\n",
    "\n",
    "# Perform 6-fold cross validation\n",
    "scores = cross_val_score(model, df, y, cv=6)\n",
    "print( 'Cross-validated scores:', scores)"
   ]
  },
  {
   "cell_type": "code",
   "execution_count": 250,
   "id": "f8ba7db8",
   "metadata": {},
   "outputs": [
    {
     "data": {
      "text/plain": [
       "<matplotlib.collections.PathCollection at 0x7f8da8b6b8b0>"
      ]
     },
     "execution_count": 250,
     "metadata": {},
     "output_type": "execute_result"
    },
    {
     "data": {
      "image/png": "[encoded data removed]",
      "text/plain": [
       "<Figure size 432x288 with 1 Axes>"
      ]
     },
     "metadata": {
      "needs_background": "light"
     },
     "output_type": "display_data"
    }
   ],
   "source": [
    "# Make cross validated predictions\n",
    "predictions = cross_val_predict(model, df, y, cv=6)\n",
    "plt.scatter(y, predictions)"
   ]
  },
  {
   "cell_type": "code",
   "execution_count": 251,
   "id": "4185cb18",
   "metadata": {},
   "outputs": [
    {
     "name": "stdout",
     "output_type": "stream",
     "text": [
      "Cross-Predicted Accuracy: 0.7298678340042231\n"
     ]
    }
   ],
   "source": [
    "accuracy = metrics.r2_score(y, predictions)\n",
    "print( 'Cross-Predicted Accuracy:', accuracy)"
   ]
  },
  {
   "cell_type": "code",
   "execution_count": 259,
   "id": "b604041c",
   "metadata": {},
   "outputs": [
    {
     "name": "stdout",
     "output_type": "stream",
     "text": [
      "Predicted Conversions: [[11.64777676]]\n"
     ]
    }
   ],
   "source": [
    "# Predict the number of conversions for a desired number of ad likes\n",
    "desired_ad_likes = 44  # Enter your desired number of ad likes here\n",
    "predicted_conversions = model.predict([[desired_ad_likes]])\n",
    "\n",
    "# Print the predicted number of conversions\n",
    "print(\"Predicted Conversions:\", predicted_conversions)"
   ]
  },
  {
   "cell_type": "code",
   "execution_count": null,
   "id": "d200862b",
   "metadata": {},
   "outputs": [],
   "source": []
  }
 ],
 "metadata": {
  "kernelspec": {
   "display_name": "Python 3",
   "language": "python",
   "name": "python3"
  },
  "language_info": {
   "codemirror_mode": {
    "name": "ipython",
    "version": 3
   },
   "file_extension": ".py",
   "mimetype": "text/x-python",
   "name": "python",
   "nbconvert_exporter": "python",
   "pygments_lexer": "ipython3",
   "version": "3.8.8"
  }
 },
 "nbformat": 4,
 "nbformat_minor": 5
}
